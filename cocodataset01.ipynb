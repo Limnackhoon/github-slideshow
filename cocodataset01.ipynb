{
  "nbformat": 4,
  "nbformat_minor": 0,
  "metadata": {
    "colab": {
      "name": "cocodataset01.ipynb",
      "provenance": [],
      "collapsed_sections": [],
      "authorship_tag": "ABX9TyPsaVi+vdtYpP9oRWC8ftrX",
      "include_colab_link": true
    },
    "kernelspec": {
      "name": "python3",
      "display_name": "Python 3"
    },
    "language_info": {
      "name": "python"
    }
  },
  "cells": [
    {
      "cell_type": "markdown",
      "metadata": {
        "id": "view-in-github",
        "colab_type": "text"
      },
      "source": [
        "<a href=\"https://colab.research.google.com/github/Limnackhoon/github-slideshow/blob/master/cocodataset01.ipynb\" target=\"_parent\"><img src=\"https://colab.research.google.com/assets/colab-badge.svg\" alt=\"Open In Colab\"/></a>"
      ]
    },
    {
      "cell_type": "code",
      "metadata": {
        "id": "ZcPwTp5WtPCi"
      },
      "source": [
        "#json파일 생성\n",
        "\"info\": {\n",
        "    #2017년 코코 데이터셋\n",
        "    \"description\": \"COCO 2017 Dataset\",\n",
        "    #cocodataset의 웹 페이지 주소\n",
        "    \"url\": \"http://cocodataset.org\",\n",
        "    #버전 : 1.0\n",
        "    \"version\": \"1.0\",\n",
        "    #2017년도\n",
        "    \"year\": 2017,\n",
        "    #COCO Consortium으로부터 기여됨\n",
        "    \"contributor\": \"COCO Consortium\",\n",
        "    #2017년9월1일에 데이터생성됨\n",
        "    \"date_created\": \"2017/09/01\"\n",
        "  }\n",
        "  ...\n",
        "#image에 대한 bbox와 segmentation 정보\n",
        "\"area\": 1037.7818999999995,\n",
        "      \"iscrowd\": 0,\n",
        "      \"image_id\": 397133,\n",
        "      \"bbox\": [\n",
        "        0,\n",
        "        262.81,\n",
        "        62.16,\n",
        "        36.77\n",
        "      ],\n",
        "      \"category_id\": 1,\n",
        "      \"id\": 1218137\n",
        "    }\n",
        "\n",
        "\"segmentation\": [\n",
        "        [\n",
        "          292.37,\n",
        "          425.1,\n",
        "          340.6,\n",
        "          373.86,\n",
        "          347.63,\n",
        "          256.31,\n",
        "          198.93,\n",
        "          240.24,\n",
        "          4.02,\n",
        "          311.57,\n",
        "          1,\n",
        "          427,\n",
        "          291.36,\n",
        "          427\n",
        "        ]\n",
        "      ]"
      ],
      "execution_count": null,
      "outputs": []
    },
    {
      "cell_type": "code",
      "metadata": {
        "id": "a3CEVY7ctSmK"
      },
      "source": [
        "#Data준비\n",
        "#다운 받은 데이터를 다음과 같은 경로로 저장\n",
        "#2017 Train images와 2017 Train/Val annotations 데이터셋 사용\n",
        "root -- images      -- train2017\n",
        "     |              |- val2017\n",
        "     |              |- test2017\n",
        "     | \n",
        "     -- anotations  -- instances_train2017.json\n",
        "                    |- instances_val2017.json  * minival        "
      ],
      "execution_count": null,
      "outputs": []
    },
    {
      "cell_type": "code",
      "metadata": {
        "id": "2-yvPGmOtusI"
      },
      "source": [
        "#Data Loader\n",
        "#필요한 운영체제와 라이브러리 import\n",
        "import os\n",
        "import torch\n",
        "import numpy as np\n",
        "import matplotlib.pyplot as plt\n",
        "from torch.utils.data import Dataset, DataLoader\n",
        "from pycocotools.coco import COCO\n",
        "from transform import transform_COCO\n",
        "from PIL import Image\n",
        "import matplotlib\n",
        "from matplotlib.patches import Rectangle"
      ],
      "execution_count": null,
      "outputs": []
    },
    {
      "cell_type": "code",
      "metadata": {
        "id": "tPZn7gRWymCg"
      },
      "source": [
        "#Data Loader Class를 만들어줌\n",
        "class COCO_Dataset(Dataset):\n",
        "  #경로는 D:\\Data\\coco, 설정이름은 val2017,\n",
        "  #RAIN기준으로 문자열을 나누기\n",
        "  #경로 오류가 나지 않도록 root_dir 작성 주의\n",
        "\tdef __init__(self, root_dir='D:\\Data\\coco', set_name='val2017', split='TRAIN'):\n",
        "\t        #init method를 사용해서 초기화\n",
        "\t         super().__init__()\n",
        "\t        self.root_dir = root_dir\n",
        "\t        self.set_name = set_name\n",
        "          #join으로 D:\\Data\\coco+ annotations, instance_,val2017+json을 합쳐서 하나의 문자열로 바꾸어 반환\n",
        "\t        self.coco = COCO(os.path.join(self.root_dir, 'annotations', 'instances_' + self.set_name + '.json'))"
      ],
      "execution_count": null,
      "outputs": []
    },
    {
      "cell_type": "code",
      "metadata": {
        "id": "wTDppvqRyqLf"
      },
      "source": [
        " #COCO안에 들어있는 약 80개의 classes중 모든 이미지들을 self.coco.getImgIds()안에 넣어줌\n",
        " whole_image_ids = self.coco.getImgIds() \n",
        "\t        #self.image_ids를 list에 담아줌\n",
        "\t        self.image_ids = []\n",
        "\t\n",
        "\t        #라벨이 없는 이미지들을 제거하고 train이나 test에 이용하도록 list에 담아줌\n",
        "\t        self.no_anno_list = []\n",
        "\t        #idx를 전체 이미지 id만큼 반복\n",
        "\t        for idx in whole_image_ids:\n",
        "              #이미지의 아이디가 idx인 annotations_ids로 불러옴 / iscrowd = 0?\n",
        "\t            annotations_ids = self.coco.getAnnIds(imgIds=idx, iscrowd=False)\n",
        "              #len으로 리스트의 크기를 알기 위함, 주석이 있는 이미지의 리스트 \n",
        "              #annotations_ids의 리스트의 크기가 0과 값이 동일하면\n",
        "\t            if len(annotations_ids) == 0:\n",
        "                  #idx에.no_anno_list자료형을 추가\n",
        "\t                self.no_anno_list.append(idx)\n",
        "\t            else:\n",
        "                  #그 외의 경우 image_ids를 추가(image_id = 397133?)\n",
        "\t                self.image_ids.append(idx)\n",
        "\t        #클래스의 정보를 읽음\n",
        "\t        self.load_classes()\n",
        "          # split하여 리스트의 형식으로 만들어줌\n",
        "\t        self.split = split"
      ],
      "execution_count": null,
      "outputs": []
    },
    {
      "cell_type": "code",
      "metadata": {
        "id": "YC2DuN_Pyrzp"
      },
      "source": [
        "#더블언더바__getitem__method 사용\n",
        "#getitem function에서 하나의 image를 열고 bounding box를 읽음\n",
        "def __getitem__(self, idx):\n",
        "        #시각화\n",
        "        visualize = True\n",
        "        #이미지의 넓이,높이를 취득하기위함\n",
        "        image, (w, h) = self.load_image(idx)\n",
        "        annotation = self.load_annotations(idx)\n",
        "        #32-bit으로 슬라이싱\n",
        "        boxes = torch.FloatTensor(annotation[:, :4])\n",
        "        #64-bit integer로 슬라이싱\n",
        "        labels = torch.LongTensor(annotation[:, 4])\n",
        "\n",
        "        #라벨에 지정된 이미지가 없으면\n",
        "        if labels.nelement() == 0:  \n",
        "            #보여줌\n",
        "            visualize = True\n",
        "        #data augmentation\n",
        "        image, boxes, labels, segmentations = transform_COCO(image, boxes, labels, self.split)\n",
        "        #image, boxes, labels 값들을 돌려줌\n",
        "        return image, boxes, labels"
      ],
      "execution_count": 1,
      "outputs": []
    },
    {
      "cell_type": "code",
      "metadata": {
        "id": "7KYM1yXRXowK"
      },
      "source": [
        "#coco라이브러리를 이용하여 이미지 정보 읽어오기\n",
        "def load_image(self, image_index):\n",
        "        #이미지 정보 확인\n",
        "        image_info = self.coco.loadImgs(self.image_ids[image_index])[0]\n",
        "        #path를 이용해서 파일탐색경로설정\n",
        "        path = os.path.join(self.root_dir, 'images', self.set_name, image_info['file_name'])\n",
        "        #이미지의 경로를 열어서 RGB로 변환한 값을 이미지에 저장\n",
        "        image = Image.open(path).convert('RGB')\n",
        "        #이미지의 넓이와 높이 정보를 반환\n",
        "        return image, (image_info['width'], image_info['height'])"
      ],
      "execution_count": null,
      "outputs": []
    },
    {
      "cell_type": "code",
      "metadata": {
        "id": "FPSaCvLMytdU"
      },
      "source": [
        "#coco라이브러리를 이용하여 annotations정보 읽기\n",
        "def load_annotations(self, image_index):\n",
        "        # \n",
        "        annotations_ids = self.coco.getAnnIds(imgIds=self.image_ids[image_index], iscrowd=False)\n",
        "        #np.zeros= 0으로 채워진 지정된 모양과 유형의 새 배열을 반환\n",
        "        #(0,0,0,0,0)형태로 출력\n",
        "        annotations = np.zeros((0, 5))\n",
        "\n",
        "        #annotations_ids의 리스트의 크기가 0과 값이 동일하면\n",
        "        if len(annotations_ids) == 0:\n",
        "            #annotations를 반환\n",
        "            return annotations\n",
        "\n",
        "        #parse annotations\n",
        "        coco_annotations = self.coco.loadAnns(annotations_ids)\n",
        "        for idx, a in enumerate(coco_annotations):\n",
        "\n",
        "            #a의 bbox의 2번 값이 1보다 작거나 a의 bbox의 3번 값이 1보다 작으면\n",
        "            if a['bbox'][2] < 1 or a['bbox'][3] < 1:\n",
        "                #계속 진행\n",
        "                continue\n",
        "            #1 by 5 - zero matrix 생성\n",
        "            annotation = np.zeros((1, 5))\n",
        "            annotation[0, :4] = a['bbox']\n",
        "            annotation[0, 4] = self.coco_label_to_label(a['category_id'])\n",
        "            annotations = np.append(annotations, annotation, axis=0)\n",
        "\n",
        "        #transform from [x, y, w, h] to [x1, y1, x2, y2]\n",
        "        annotations[:, 2] = annotations[:, 0] + annotations[:, 2]\n",
        "        annotations[:, 3] = annotations[:, 1] + annotations[:, 3]\n",
        "        #annotations값 반환\n",
        "        return annotations"
      ],
      "execution_count": null,
      "outputs": []
    },
    {
      "cell_type": "code",
      "metadata": {
        "id": "l_bOmFkLyvWJ"
      },
      "source": [
        "#train함수에서 train loader를 불러와서 train data들을 이용\n",
        "train_set = COCO_Dataset()\n",
        "#train_loader에 저장\n",
        "train_loader = DataLoader(train_set,\n",
        "                              batch_size=1,\n",
        "                              collate_fn=train_set.collate_fn,\n",
        "                              shuffle=False,\n",
        "                              num_workers=0,\n",
        "                              pin_memory=True)"
      ],
      "execution_count": null,
      "outputs": []
    },
    {
      "cell_type": "code",
      "metadata": {
        "id": "wpvjrFp0ywj7"
      },
      "source": [
        "#for문을 이용해서 data를 읽어옴\n",
        "for i, (images, boxes, labels) in enumerate(train_loader):\n",
        "        images = images.cuda()\n",
        "        boxes = [b.cuda() for b in boxes]\n",
        "        labels = [l.cuda() for l in labels]"
      ],
      "execution_count": null,
      "outputs": []
    }
  ]
}